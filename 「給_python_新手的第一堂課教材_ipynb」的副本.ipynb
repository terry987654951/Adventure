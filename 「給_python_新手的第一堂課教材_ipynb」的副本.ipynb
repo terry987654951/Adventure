{
  "nbformat": 4,
  "nbformat_minor": 0,
  "metadata": {
    "colab": {
      "name": "「給 python 新手的第一堂課教材.ipynb」的副本",
      "provenance": [],
      "collapsed_sections": [],
      "include_colab_link": true
    },
    "language_info": {
      "codemirror_mode": {
        "name": "ipython",
        "version": 3
      },
      "file_extension": ".py",
      "mimetype": "text/x-python",
      "name": "python",
      "nbconvert_exporter": "python",
      "pygments_lexer": "ipython3",
      "version": "3.6.3"
    },
    "kernelspec": {
      "display_name": "Python 3",
      "language": "python",
      "name": "python3"
    }
  },
  "cells": [
    {
      "cell_type": "markdown",
      "metadata": {
        "id": "view-in-github",
        "colab_type": "text"
      },
      "source": [
        "<a href=\"https://colab.research.google.com/github/terry987654951/Adventure/blob/master/%E3%80%8C%E7%B5%A6_python_%E6%96%B0%E6%89%8B%E7%9A%84%E7%AC%AC%E4%B8%80%E5%A0%82%E8%AA%B2%E6%95%99%E6%9D%90_ipynb%E3%80%8D%E7%9A%84%E5%89%AF%E6%9C%AC.ipynb\" target=\"_parent\"><img src=\"https://colab.research.google.com/assets/colab-badge.svg\" alt=\"Open In Colab\"/></a>"
      ]
    },
    {
      "cell_type": "markdown",
      "metadata": {
        "id": "N7a5BXD0CXCn"
      },
      "source": [
        "#注意事項： ↑↑↑ 記得先按下 Copy to drive 按鈕，複製一份教材到你自己的雲端硬碟哦"
      ]
    },
    {
      "cell_type": "markdown",
      "metadata": {
        "id": "Yk0bw6t5SfAy"
      },
      "source": [
        "#課程大綱\n",
        "\n",
        "\n",
        "## Python basic - 瞭解python基礎語法，能夠應用int、float、str、list等物件，和函數print()、type()、str()等函數，結合迴圈、條件判斷、匯入套件等概念，來解決問題\n",
        "\n"
      ]
    },
    {
      "cell_type": "markdown",
      "metadata": {
        "id": "n7V2cO64EFR_"
      },
      "source": [
        "## data type 資料類型"
      ]
    },
    {
      "cell_type": "markdown",
      "metadata": {
        "id": "N_q9Eyq4EFST"
      },
      "source": [
        "### numeric 數值資料"
      ]
    },
    {
      "cell_type": "code",
      "metadata": {
        "id": "JmaM1f13EFSW"
      },
      "source": [
        "1"
      ],
      "execution_count": null,
      "outputs": []
    },
    {
      "cell_type": "code",
      "metadata": {
        "id": "Xr8aJ8XrGb0T"
      },
      "source": [
        "# 四則運算符號: + - * /\n",
        "1+2"
      ],
      "execution_count": null,
      "outputs": []
    },
    {
      "cell_type": "markdown",
      "metadata": {
        "id": "do06bAnI3IJV"
      },
      "source": [
        "####四則運算"
      ]
    },
    {
      "cell_type": "code",
      "metadata": {
        "id": "cH2t1b8V1IF0"
      },
      "source": [
        "# function就像一台果汁機，丟甚麼水果進去，會決定出來的是甚麼果汁\n",
        "print(1+2)\n",
        "print(1-2)\n",
        "print(1*2)\n",
        "print(1/2)"
      ],
      "execution_count": null,
      "outputs": []
    },
    {
      "cell_type": "code",
      "metadata": {
        "id": "zyQHK041FEsI"
      },
      "source": [
        "# integer整數\n",
        "type(1)"
      ],
      "execution_count": null,
      "outputs": []
    },
    {
      "cell_type": "code",
      "metadata": {
        "id": "Rf3rZQVVFGt9"
      },
      "source": [
        "# float浮點數\n",
        "type(1/2)"
      ],
      "execution_count": null,
      "outputs": []
    },
    {
      "cell_type": "markdown",
      "metadata": {
        "id": "2b-fkQOqEFSD"
      },
      "source": [
        "### string 文字資料"
      ]
    },
    {
      "cell_type": "code",
      "metadata": {
        "id": "lxdzPgvVEFSH"
      },
      "source": [
        "\"Hello world!\""
      ],
      "execution_count": null,
      "outputs": []
    },
    {
      "cell_type": "code",
      "metadata": {
        "id": "PQK7F3grE7Dn"
      },
      "source": [
        "type(\"Hello world!\")"
      ],
      "execution_count": null,
      "outputs": []
    },
    {
      "cell_type": "code",
      "metadata": {
        "id": "ixT0sCYwF1b2"
      },
      "source": [
        "\"Hello world! \" + '2020'"
      ],
      "execution_count": null,
      "outputs": []
    },
    {
      "cell_type": "code",
      "metadata": {
        "id": "Bcw9jd8G98xJ"
      },
      "source": [
        "\"Hello world! \" + 2020"
      ],
      "execution_count": null,
      "outputs": []
    },
    {
      "cell_type": "code",
      "metadata": {
        "id": "ub1rLWcRIxkH"
      },
      "source": [
        "str(2020)"
      ],
      "execution_count": null,
      "outputs": []
    },
    {
      "cell_type": "code",
      "metadata": {
        "id": "GZYBUld3I0kq"
      },
      "source": [
        "# 利用 str() 將數字轉為字串\n",
        "\"Hello world! \" + str(2020)"
      ],
      "execution_count": null,
      "outputs": []
    },
    {
      "cell_type": "code",
      "metadata": {
        "id": "D8omehnCEFSk"
      },
      "source": [
        "print(\"Hello world!\", 2020)"
      ],
      "execution_count": null,
      "outputs": []
    },
    {
      "cell_type": "markdown",
      "metadata": {
        "id": "-IHxrFWYEFS3"
      },
      "source": [
        "#### practice"
      ]
    },
    {
      "cell_type": "code",
      "metadata": {
        "id": "L2dF8aUhEFS6"
      },
      "source": [
        "# please print： 6 次夾娃娃 = 6*10 元 (夾娃娃 = 10元/次)\n"
      ],
      "execution_count": null,
      "outputs": []
    },
    {
      "cell_type": "markdown",
      "metadata": {
        "id": "zMEtrur-EFTC"
      },
      "source": [
        "### assign variable(建立變數)"
      ]
    },
    {
      "cell_type": "code",
      "metadata": {
        "id": "UXfH7EPN4dgh"
      },
      "source": [
        "# 影片中的價錢誤植為夾一次 100 元，實際上是 10 元啦！\n",
        "20*10*0.9\n",
        "print(\"共花費\", 20*10*0.9, \"元\")"
      ],
      "execution_count": null,
      "outputs": []
    },
    {
      "cell_type": "code",
      "metadata": {
        "id": "TTlyLs2f5f3l"
      },
      "source": [
        "cost = 20*10*0.9\n",
        "print(\"共花費\", cost, \"元\")"
      ],
      "execution_count": null,
      "outputs": []
    },
    {
      "cell_type": "code",
      "metadata": {
        "id": "khEM0iW_EFTE"
      },
      "source": [
        "first = \"Hello world!\"\n",
        "last = \"Welcome to Python!\""
      ],
      "execution_count": null,
      "outputs": []
    },
    {
      "cell_type": "code",
      "metadata": {
        "id": "0b1h4iyuEFTK"
      },
      "source": [
        "print(first)"
      ],
      "execution_count": null,
      "outputs": []
    },
    {
      "cell_type": "code",
      "metadata": {
        "id": "TkklnQd4EFTS"
      },
      "source": [
        "print(first + last)"
      ],
      "execution_count": null,
      "outputs": []
    },
    {
      "cell_type": "markdown",
      "metadata": {
        "id": "Y51Ml1UvEFTs"
      },
      "source": [
        "### list - 最常使用的資料容器"
      ]
    },
    {
      "cell_type": "code",
      "metadata": {
        "id": "VKJSLbgxEFTu"
      },
      "source": [
        "# 使用 [] 來建立 list\n",
        "heros = [\"蟻人\",\"蜘蛛人\",\"鋼鐵人\",\"斯拉夫人\"]"
      ],
      "execution_count": null,
      "outputs": []
    },
    {
      "cell_type": "code",
      "metadata": {
        "id": "XV249sseHEAr"
      },
      "source": [
        "print(heros)"
      ],
      "execution_count": null,
      "outputs": []
    },
    {
      "cell_type": "markdown",
      "metadata": {
        "id": "niy5cTs6KH4Z"
      },
      "source": [
        "####取出list中的特定值"
      ]
    },
    {
      "cell_type": "code",
      "metadata": {
        "id": "KWul2l-MHG35"
      },
      "source": [
        "heros[0]"
      ],
      "execution_count": null,
      "outputs": []
    },
    {
      "cell_type": "markdown",
      "metadata": {
        "id": "d6810ZsVEFT9"
      },
      "source": [
        "#### practice"
      ]
    },
    {
      "cell_type": "code",
      "metadata": {
        "id": "fuio7lnTEFT_"
      },
      "source": [
        "# 建立一個 list 包含字串 dog, cat, bird, rabbit\n",
        "# 嘗試將 bird 印出來"
      ],
      "execution_count": null,
      "outputs": []
    },
    {
      "cell_type": "markdown",
      "metadata": {
        "collapsed": true,
        "id": "ROt0qqXlEFUM"
      },
      "source": [
        "### for loop 迴圈"
      ]
    },
    {
      "cell_type": "code",
      "metadata": {
        "id": "FYZM4pfgEFUO"
      },
      "source": [
        "# 如果要將每位英雄都印出，你應該會想到...\n",
        "print(heros[0])\n",
        "print(heros[1])\n",
        "print(heros[2])\n",
        "print(heros[3])"
      ],
      "execution_count": null,
      "outputs": []
    },
    {
      "cell_type": "markdown",
      "metadata": {
        "id": "9HNdhIy4MG8y"
      },
      "source": [
        "#### 程式邏輯大不同 - indent縮排 "
      ]
    },
    {
      "cell_type": "code",
      "metadata": {
        "id": "lTW35w4FEFUU"
      },
      "source": [
        "# 縮排的位置非常重要，會完全改變程式邏輯\n",
        "heros = [\"蟻人\",\"蜘蛛人\",\"鋼鐵人\",\"斯拉夫人\"]       \n",
        "\n",
        "for h in heros:\n",
        "  print(h)\n"
      ],
      "execution_count": null,
      "outputs": []
    },
    {
      "cell_type": "markdown",
      "metadata": {
        "id": "KHrwmQNMEFU5"
      },
      "source": [
        "### if, elif and else"
      ]
    },
    {
      "cell_type": "markdown",
      "metadata": {
        "id": "vnNxO1mqEFU6"
      },
      "source": [
        "#### 邏輯上的是與否"
      ]
    },
    {
      "cell_type": "code",
      "metadata": {
        "id": "9Uh9mNdIEFU6"
      },
      "source": [
        "# python特殊保留字，千萬不要當成變數覆蓋掉\n",
        "print(True)\n",
        "print(False)"
      ],
      "execution_count": null,
      "outputs": []
    },
    {
      "cell_type": "code",
      "metadata": {
        "id": "Cdg6RqL7mM-t"
      },
      "source": [
        "# 條件判斷符號: ==, >, <, >=, <=, !=\n",
        "1 > 0"
      ],
      "execution_count": null,
      "outputs": []
    },
    {
      "cell_type": "code",
      "metadata": {
        "id": "W_qZnNs63N5h"
      },
      "source": [
        "# 多重條件判斷 and 與 or\n",
        "(1==1) or (2!=2)"
      ],
      "execution_count": null,
      "outputs": []
    },
    {
      "cell_type": "code",
      "metadata": {
        "id": "s-r73kD_MsNG"
      },
      "source": [
        "# 字串的條件判斷\n",
        "\"蟻人\" == \"斯拉夫人\""
      ],
      "execution_count": null,
      "outputs": []
    },
    {
      "cell_type": "code",
      "metadata": {
        "id": "Qm9lkpmlEFVD"
      },
      "source": [
        "# 當條件符合時，則執行縮排內的程式。沒有任何條件符合，自動忽略\n",
        "number = 5\n",
        "if number > 0:  \n",
        "  print(\"positive\")"
      ],
      "execution_count": null,
      "outputs": []
    },
    {
      "cell_type": "code",
      "metadata": {
        "id": "XQf39DcsEFVK"
      },
      "source": [
        "number = 0\n",
        "if number > 0:\n",
        "  print(\"positive\")\n",
        "elif number == 0:\n",
        "  print(\"zero\")"
      ],
      "execution_count": null,
      "outputs": []
    },
    {
      "cell_type": "code",
      "metadata": {
        "id": "Wl-uEJTqEFVP"
      },
      "source": [
        "number = -50\n",
        "if number > 0:\n",
        "  print(\"positive\")\n",
        "elif number == 0:\n",
        "  print(\"zero\")\n",
        "else:\n",
        "  print(\"negative\")"
      ],
      "execution_count": null,
      "outputs": []
    },
    {
      "cell_type": "markdown",
      "metadata": {
        "id": "pOAYWzyhEFVV"
      },
      "source": [
        "#### practice"
      ]
    },
    {
      "cell_type": "code",
      "metadata": {
        "id": "xRST79TZEFVX"
      },
      "source": [
        "# 嘗試用if語法，寫出當my_score >= 60 印出 pass， < 60 印出 flunk\n",
        "my_score = 87"
      ],
      "execution_count": null,
      "outputs": []
    },
    {
      "cell_type": "markdown",
      "metadata": {
        "id": "wAG8aHpkRWdh"
      },
      "source": [
        "### 結合迴圈以及條件判斷"
      ]
    },
    {
      "cell_type": "code",
      "metadata": {
        "id": "xqsw6SMhOngl"
      },
      "source": [
        "# 找出假英雄\n",
        "heros = [\"蟻人\",\"蜘蛛人\",\"鋼鐵人\",\"斯拉夫人\"]"
      ],
      "execution_count": null,
      "outputs": []
    },
    {
      "cell_type": "code",
      "metadata": {
        "id": "Cdxj6BDXBy1E"
      },
      "source": [
        "# 吃得起哪種便當\n",
        "price = [99, 80, 110, 50, 95, 85, 65, 125]"
      ],
      "execution_count": null,
      "outputs": []
    },
    {
      "cell_type": "markdown",
      "metadata": {
        "id": "rZruvJTcoAts"
      },
      "source": [
        "### 開發小遊戲！ 剪刀 石頭 布"
      ]
    },
    {
      "cell_type": "code",
      "metadata": {
        "id": "Dk7VkAtcoE1E"
      },
      "source": [
        "action = [\"剪刀\", \"石頭\", \"布\"]"
      ],
      "execution_count": null,
      "outputs": []
    },
    {
      "cell_type": "code",
      "metadata": {
        "id": "mh9_dz8joLg7"
      },
      "source": [
        "# 利用input()讓使用者輸入值，來建立變數。可以加上提示字參數，像input(\"請輸入帳號\")來提示使用者\n",
        "my_action = input()"
      ],
      "execution_count": null,
      "outputs": []
    },
    {
      "cell_type": "code",
      "metadata": {
        "id": "Vl8lkylToIJq"
      },
      "source": [
        "import random"
      ],
      "execution_count": null,
      "outputs": []
    },
    {
      "cell_type": "code",
      "metadata": {
        "id": "V4rOeqssCXW2"
      },
      "source": [
        "com_action = random.choice(action)"
      ],
      "execution_count": null,
      "outputs": []
    },
    {
      "cell_type": "code",
      "metadata": {
        "id": "nh6JxICxFUgI"
      },
      "source": [
        "if \"tie condition\":\n",
        "  print(\"平手\")\n",
        "elif \"win condition\":\n",
        "  print(\"勝利!\")\n",
        "else:\n",
        "  print(\"慘敗...\")"
      ],
      "execution_count": null,
      "outputs": []
    }
  ]
}